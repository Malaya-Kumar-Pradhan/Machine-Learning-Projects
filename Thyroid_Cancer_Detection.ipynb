{
 "cells": [
  {
   "cell_type": "code",
   "execution_count": 1,
   "id": "f1781830",
   "metadata": {
    "tags": []
   },
   "outputs": [],
   "source": [
    "import pandas as pd\n",
    "import numpy as np\n",
    "import seaborn as sns\n",
    "import matplotlib.pyplot as plt"
   ]
  },
  {
   "cell_type": "code",
   "execution_count": 2,
   "id": "1b4f119b",
   "metadata": {
    "tags": []
   },
   "outputs": [],
   "source": [
    "df=pd.read_csv(r\"C:\\Users\\malay\\OneDrive\\Dokumen\\Sandu\\thyroid.csv\")"
   ]
  },
  {
   "cell_type": "code",
   "execution_count": 3,
   "id": "81bb6032",
   "metadata": {
    "tags": []
   },
   "outputs": [
    {
     "data": {
      "text/html": [
       "<div>\n",
       "<style scoped>\n",
       "    .dataframe tbody tr th:only-of-type {\n",
       "        vertical-align: middle;\n",
       "    }\n",
       "\n",
       "    .dataframe tbody tr th {\n",
       "        vertical-align: top;\n",
       "    }\n",
       "\n",
       "    .dataframe thead th {\n",
       "        text-align: right;\n",
       "    }\n",
       "</style>\n",
       "<table border=\"1\" class=\"dataframe\">\n",
       "  <thead>\n",
       "    <tr style=\"text-align: right;\">\n",
       "      <th></th>\n",
       "      <th>Age</th>\n",
       "      <th>Gender</th>\n",
       "      <th>Smoking</th>\n",
       "      <th>Hx Smoking</th>\n",
       "      <th>Hx Radiothreapy</th>\n",
       "      <th>Thyroid Function</th>\n",
       "      <th>Physical Examination</th>\n",
       "      <th>Adenopathy</th>\n",
       "      <th>Pathology</th>\n",
       "      <th>Focality</th>\n",
       "      <th>Risk</th>\n",
       "      <th>T</th>\n",
       "      <th>N</th>\n",
       "      <th>M</th>\n",
       "      <th>Stage</th>\n",
       "      <th>Response</th>\n",
       "      <th>Recurred</th>\n",
       "    </tr>\n",
       "  </thead>\n",
       "  <tbody>\n",
       "    <tr>\n",
       "      <th>0</th>\n",
       "      <td>27</td>\n",
       "      <td>F</td>\n",
       "      <td>No</td>\n",
       "      <td>No</td>\n",
       "      <td>No</td>\n",
       "      <td>Euthyroid</td>\n",
       "      <td>Single nodular goiter-left</td>\n",
       "      <td>No</td>\n",
       "      <td>Micropapillary</td>\n",
       "      <td>Uni-Focal</td>\n",
       "      <td>Low</td>\n",
       "      <td>T1a</td>\n",
       "      <td>N0</td>\n",
       "      <td>M0</td>\n",
       "      <td>I</td>\n",
       "      <td>Indeterminate</td>\n",
       "      <td>No</td>\n",
       "    </tr>\n",
       "    <tr>\n",
       "      <th>1</th>\n",
       "      <td>34</td>\n",
       "      <td>F</td>\n",
       "      <td>No</td>\n",
       "      <td>Yes</td>\n",
       "      <td>No</td>\n",
       "      <td>Euthyroid</td>\n",
       "      <td>Multinodular goiter</td>\n",
       "      <td>No</td>\n",
       "      <td>Micropapillary</td>\n",
       "      <td>Uni-Focal</td>\n",
       "      <td>Low</td>\n",
       "      <td>T1a</td>\n",
       "      <td>N0</td>\n",
       "      <td>M0</td>\n",
       "      <td>I</td>\n",
       "      <td>Excellent</td>\n",
       "      <td>No</td>\n",
       "    </tr>\n",
       "    <tr>\n",
       "      <th>2</th>\n",
       "      <td>30</td>\n",
       "      <td>F</td>\n",
       "      <td>No</td>\n",
       "      <td>No</td>\n",
       "      <td>No</td>\n",
       "      <td>Euthyroid</td>\n",
       "      <td>Single nodular goiter-right</td>\n",
       "      <td>No</td>\n",
       "      <td>Micropapillary</td>\n",
       "      <td>Uni-Focal</td>\n",
       "      <td>Low</td>\n",
       "      <td>T1a</td>\n",
       "      <td>N0</td>\n",
       "      <td>M0</td>\n",
       "      <td>I</td>\n",
       "      <td>Excellent</td>\n",
       "      <td>No</td>\n",
       "    </tr>\n",
       "    <tr>\n",
       "      <th>3</th>\n",
       "      <td>62</td>\n",
       "      <td>F</td>\n",
       "      <td>No</td>\n",
       "      <td>No</td>\n",
       "      <td>No</td>\n",
       "      <td>Euthyroid</td>\n",
       "      <td>Single nodular goiter-right</td>\n",
       "      <td>No</td>\n",
       "      <td>Micropapillary</td>\n",
       "      <td>Uni-Focal</td>\n",
       "      <td>Low</td>\n",
       "      <td>T1a</td>\n",
       "      <td>N0</td>\n",
       "      <td>M0</td>\n",
       "      <td>I</td>\n",
       "      <td>Excellent</td>\n",
       "      <td>No</td>\n",
       "    </tr>\n",
       "    <tr>\n",
       "      <th>4</th>\n",
       "      <td>62</td>\n",
       "      <td>F</td>\n",
       "      <td>No</td>\n",
       "      <td>No</td>\n",
       "      <td>No</td>\n",
       "      <td>Euthyroid</td>\n",
       "      <td>Multinodular goiter</td>\n",
       "      <td>No</td>\n",
       "      <td>Micropapillary</td>\n",
       "      <td>Multi-Focal</td>\n",
       "      <td>Low</td>\n",
       "      <td>T1a</td>\n",
       "      <td>N0</td>\n",
       "      <td>M0</td>\n",
       "      <td>I</td>\n",
       "      <td>Excellent</td>\n",
       "      <td>No</td>\n",
       "    </tr>\n",
       "  </tbody>\n",
       "</table>\n",
       "</div>"
      ],
      "text/plain": [
       "   Age Gender Smoking Hx Smoking Hx Radiothreapy Thyroid Function  \\\n",
       "0   27      F      No         No              No        Euthyroid   \n",
       "1   34      F      No        Yes              No        Euthyroid   \n",
       "2   30      F      No         No              No        Euthyroid   \n",
       "3   62      F      No         No              No        Euthyroid   \n",
       "4   62      F      No         No              No        Euthyroid   \n",
       "\n",
       "          Physical Examination Adenopathy       Pathology     Focality Risk  \\\n",
       "0   Single nodular goiter-left         No  Micropapillary    Uni-Focal  Low   \n",
       "1          Multinodular goiter         No  Micropapillary    Uni-Focal  Low   \n",
       "2  Single nodular goiter-right         No  Micropapillary    Uni-Focal  Low   \n",
       "3  Single nodular goiter-right         No  Micropapillary    Uni-Focal  Low   \n",
       "4          Multinodular goiter         No  Micropapillary  Multi-Focal  Low   \n",
       "\n",
       "     T   N   M Stage       Response Recurred  \n",
       "0  T1a  N0  M0     I  Indeterminate       No  \n",
       "1  T1a  N0  M0     I      Excellent       No  \n",
       "2  T1a  N0  M0     I      Excellent       No  \n",
       "3  T1a  N0  M0     I      Excellent       No  \n",
       "4  T1a  N0  M0     I      Excellent       No  "
      ]
     },
     "execution_count": 3,
     "metadata": {},
     "output_type": "execute_result"
    }
   ],
   "source": [
    "df.head()"
   ]
  },
  {
   "cell_type": "code",
   "execution_count": 5,
   "id": "1241b8a2",
   "metadata": {
    "tags": []
   },
   "outputs": [],
   "source": [
    "df.drop_duplicates(keep='first',inplace=True)"
   ]
  },
  {
   "cell_type": "code",
   "execution_count": 6,
   "id": "1efd49c8",
   "metadata": {
    "tags": []
   },
   "outputs": [
    {
     "data": {
      "text/plain": [
       "(364, 17)"
      ]
     },
     "execution_count": 6,
     "metadata": {},
     "output_type": "execute_result"
    }
   ],
   "source": [
    "df.shape"
   ]
  },
  {
   "cell_type": "code",
   "execution_count": 7,
   "id": "12413565",
   "metadata": {
    "tags": []
   },
   "outputs": [],
   "source": [
    "data=pd.DataFrame(df)"
   ]
  },
  {
   "cell_type": "code",
   "execution_count": 8,
   "id": "2a85fc57",
   "metadata": {
    "tags": []
   },
   "outputs": [],
   "source": [
    "data=data.astype(str)"
   ]
  },
  {
   "cell_type": "code",
   "execution_count": 9,
   "id": "acbed9ca-9674-4b18-85a7-e4abaa211400",
   "metadata": {
    "tags": []
   },
   "outputs": [],
   "source": [
    "from sklearn.preprocessing import OrdinalEncoder"
   ]
  },
  {
   "cell_type": "code",
   "execution_count": 10,
   "id": "79e64479-6490-4ed9-b42f-05b0a97c0615",
   "metadata": {
    "tags": []
   },
   "outputs": [],
   "source": [
    "ord=[['F','M']]\n",
    "oe=OrdinalEncoder(categories=ord)\n",
    "data['Gender']=oe.fit_transform(data[['Gender']])"
   ]
  },
  {
   "cell_type": "code",
   "execution_count": 11,
   "id": "de08c02d-868e-4ad7-8c51-0b3ddcb52788",
   "metadata": {
    "tags": []
   },
   "outputs": [],
   "source": [
    "ord=[['No','Yes']]\n",
    "oe=OrdinalEncoder(categories=ord)\n",
    "data['Smoking']=oe.fit_transform(data[['Smoking']])"
   ]
  },
  {
   "cell_type": "code",
   "execution_count": 12,
   "id": "9f7aed18-cef7-400d-be50-67ee6f9af244",
   "metadata": {
    "tags": []
   },
   "outputs": [],
   "source": [
    "ord=[['No','Yes']]\n",
    "oe=OrdinalEncoder(categories=ord)\n",
    "data['Hx Smoking']=oe.fit_transform(data[['Hx Smoking']])"
   ]
  },
  {
   "cell_type": "code",
   "execution_count": 13,
   "id": "808436c3-9603-45b6-9da3-818e7d37797b",
   "metadata": {
    "tags": []
   },
   "outputs": [],
   "source": [
    "ord=[['No','Yes']]\n",
    "oe=OrdinalEncoder(categories=ord)\n",
    "data['Hx Radiothreapy']=oe.fit_transform(data[['Hx Radiothreapy']])"
   ]
  },
  {
   "cell_type": "code",
   "execution_count": 14,
   "id": "d43856f6-215b-4450-8a95-63910ca25f96",
   "metadata": {
    "tags": []
   },
   "outputs": [],
   "source": [
    "ord=[['Euthyroid', 'Clinical Hyperthyroidism', 'Clinical Hypothyroidism',\n",
    "       'Subclinical Hyperthyroidism', 'Subclinical Hypothyroidism']]\n",
    "oe=OrdinalEncoder(categories=ord)\n",
    "data[\"Thyroid Function\"]=oe.fit_transform(data[['Thyroid Function']])"
   ]
  },
  {
   "cell_type": "code",
   "execution_count": 15,
   "id": "6ad2fe6c-7985-4778-b548-e021411e8a2d",
   "metadata": {
    "tags": []
   },
   "outputs": [],
   "source": [
    "ord=[['Single nodular goiter-left', 'Multinodular goiter',\n",
    "       'Single nodular goiter-right', 'Normal', 'Diffuse goiter']]\n",
    "oe=OrdinalEncoder(categories=ord)\n",
    "data[\"Physical Examination\"]=oe.fit_transform(data[['Physical Examination']])"
   ]
  },
  {
   "cell_type": "code",
   "execution_count": 16,
   "id": "ae2d194c-942a-4fb0-a6ec-d4994ab10449",
   "metadata": {
    "tags": []
   },
   "outputs": [],
   "source": [
    "ord=[['No', 'Right', 'Extensive', 'Left', 'Bilateral', 'Posterior']]\n",
    "oe=OrdinalEncoder(categories=ord)\n",
    "data[\"Adenopathy\"]=oe.fit_transform(data[['Adenopathy']])"
   ]
  },
  {
   "cell_type": "code",
   "execution_count": 17,
   "id": "d3a6d4b6-7fe4-4029-b173-1b183154f3e8",
   "metadata": {
    "tags": []
   },
   "outputs": [],
   "source": [
    "ord=[['Micropapillary', 'Papillary', 'Follicular', 'Hurthel cell']]\n",
    "oe=OrdinalEncoder(categories=ord)\n",
    "data[\"Pathology\"]=oe.fit_transform(data[['Pathology']])"
   ]
  },
  {
   "cell_type": "code",
   "execution_count": 18,
   "id": "5ba6c9aa-3cd1-4f52-876c-e070eb24be28",
   "metadata": {
    "tags": []
   },
   "outputs": [],
   "source": [
    "ord=[['Uni-Focal', 'Multi-Focal']]\n",
    "oe=OrdinalEncoder(categories=ord)\n",
    "data[\"Focality\"]=oe.fit_transform(data[['Focality']])"
   ]
  },
  {
   "cell_type": "code",
   "execution_count": 19,
   "id": "962bb7f7-637a-4422-939f-461282c7d801",
   "metadata": {
    "tags": []
   },
   "outputs": [],
   "source": [
    "ord=[['Low', 'Intermediate', 'High']]\n",
    "oe=OrdinalEncoder(categories=ord)\n",
    "data[\"Risk\"]=oe.fit_transform(data[['Risk']])"
   ]
  },
  {
   "cell_type": "code",
   "execution_count": 20,
   "id": "94b582f1-caa8-41e9-9d74-aac82d32951a",
   "metadata": {
    "tags": []
   },
   "outputs": [],
   "source": [
    "ord=[['T1a', 'T1b', 'T2', 'T3a', 'T3b', 'T4a', 'T4b']]\n",
    "oe=OrdinalEncoder(categories=ord)\n",
    "data[\"T\"]=oe.fit_transform(data[['T']])"
   ]
  },
  {
   "cell_type": "code",
   "execution_count": 21,
   "id": "8e21f808-b19e-493f-9d3d-8a0aa113adb2",
   "metadata": {
    "tags": []
   },
   "outputs": [],
   "source": [
    "ord=[['N0', 'N1b', 'N1a']]\n",
    "oe=OrdinalEncoder(categories=ord)\n",
    "data[\"N\"]=oe.fit_transform(data[['N']])"
   ]
  },
  {
   "cell_type": "code",
   "execution_count": 22,
   "id": "b979abe6-9b06-46e4-926f-e467ecde26a9",
   "metadata": {
    "tags": []
   },
   "outputs": [],
   "source": [
    "ord=[['M0', 'M1']]\n",
    "oe=OrdinalEncoder(categories=ord)\n",
    "data[\"M\"]=oe.fit_transform(data[['M']])"
   ]
  },
  {
   "cell_type": "code",
   "execution_count": 23,
   "id": "e82b82f7-3e58-4317-9155-4ef603f8dfdc",
   "metadata": {
    "tags": []
   },
   "outputs": [],
   "source": [
    "ord=[['I', 'II', 'IVB', 'III', 'IVA']]\n",
    "oe=OrdinalEncoder(categories=ord)\n",
    "data[\"Stage\"]=oe.fit_transform(data[['Stage']])"
   ]
  },
  {
   "cell_type": "code",
   "execution_count": 24,
   "id": "821e7d1b-7de3-40d5-a0a9-898de411a918",
   "metadata": {
    "tags": []
   },
   "outputs": [],
   "source": [
    "ord=[['Indeterminate', 'Excellent', 'Structural Incomplete',\n",
    "       'Biochemical Incomplete']]\n",
    "oe=OrdinalEncoder(categories=ord)\n",
    "data[\"Response\"]=oe.fit_transform(data[['Response']])"
   ]
  },
  {
   "cell_type": "code",
   "execution_count": 25,
   "id": "8f4e0198-c06c-473c-911e-fed84a4f0cea",
   "metadata": {
    "tags": []
   },
   "outputs": [],
   "source": [
    "ord=[['No','Yes']]\n",
    "oe=OrdinalEncoder(categories=ord)\n",
    "data['Recurred']=oe.fit_transform(data[['Recurred']])"
   ]
  },
  {
   "cell_type": "code",
   "execution_count": 26,
   "id": "da466a4c-cc4f-4575-a879-29d4e00a2c25",
   "metadata": {
    "tags": []
   },
   "outputs": [
    {
     "data": {
      "text/plain": [
       "array([0., 1.])"
      ]
     },
     "execution_count": 26,
     "metadata": {},
     "output_type": "execute_result"
    }
   ],
   "source": [
    "data[\"Recurred\"].unique()"
   ]
  },
  {
   "cell_type": "code",
   "execution_count": 27,
   "id": "356c0b22-46aa-4064-9998-0d53cf877b15",
   "metadata": {
    "tags": []
   },
   "outputs": [],
   "source": [
    "data[\"Age\"]=np.where(df[\"Age\"]<=18,0,np.where((df[\"Age\"]>=19)&(df[\"Age\"]<=64),1,np.where(df[\"Age\"]>=65,2,df[\"Age\"])))\n",
    "#Young- 0\n",
    "#Middle age- 1\n",
    "#Senior- 2"
   ]
  },
  {
   "cell_type": "code",
   "execution_count": 28,
   "id": "e8c4a179-d80e-456c-9d7b-417710e5575b",
   "metadata": {
    "tags": []
   },
   "outputs": [
    {
     "data": {
      "text/plain": [
       "Age\n",
       "1    325\n",
       "2     34\n",
       "0      5\n",
       "Name: count, dtype: int64"
      ]
     },
     "execution_count": 28,
     "metadata": {},
     "output_type": "execute_result"
    }
   ],
   "source": [
    "data[\"Age\"].value_counts()"
   ]
  },
  {
   "cell_type": "code",
   "execution_count": 29,
   "id": "a832cefb-344b-49b1-9d02-227c442726fa",
   "metadata": {
    "tags": []
   },
   "outputs": [],
   "source": [
    "from sklearn.tree import DecisionTreeClassifier\n",
    "from sklearn.ensemble import RandomForestClassifier"
   ]
  },
  {
   "cell_type": "code",
   "execution_count": 30,
   "id": "d384ddfc",
   "metadata": {
    "tags": []
   },
   "outputs": [],
   "source": [
    "from sklearn.model_selection import train_test_split\n",
    "from sklearn.metrics import accuracy_score,precision_score,confusion_matrix,recall_score,f1_score"
   ]
  },
  {
   "cell_type": "code",
   "execution_count": 31,
   "id": "2d22948a",
   "metadata": {
    "tags": []
   },
   "outputs": [],
   "source": [
    "x=data.iloc[:,:-1]\n",
    "y=data['Recurred']"
   ]
  },
  {
   "cell_type": "code",
   "execution_count": 32,
   "id": "c0a51a59",
   "metadata": {
    "tags": []
   },
   "outputs": [],
   "source": [
    "x_train,x_test,y_train,y_test=train_test_split(x,y,test_size=0.2,random_state=40)"
   ]
  },
  {
   "cell_type": "markdown",
   "id": "8ac0af8e",
   "metadata": {},
   "source": [
    "# DecisionTree Classifier"
   ]
  },
  {
   "cell_type": "code",
   "execution_count": 33,
   "id": "639deb7e-b846-44a9-8412-7dfa17a56c42",
   "metadata": {},
   "outputs": [
    {
     "data": {
      "text/plain": [
       "(97.26027397260275, 97.59450171821305)"
      ]
     },
     "execution_count": 33,
     "metadata": {},
     "output_type": "execute_result"
    }
   ],
   "source": [
    "dt=DecisionTreeClassifier(criterion=\"entropy\",min_samples_split=3,min_samples_leaf=2)\n",
    "dt.fit(x_train,y_train)\n",
    "dt.score(x_test,y_test)*100,dt.score(x_train,y_train)*100"
   ]
  },
  {
   "cell_type": "code",
   "execution_count": 34,
   "id": "c53028e0-96bd-41b2-a819-43607f29536c",
   "metadata": {},
   "outputs": [
    {
     "name": "stdout",
     "output_type": "stream",
     "text": [
      "97.26027397260275\n",
      "100.0\n",
      "88.88888888888889\n",
      "94.11764705882352\n"
     ]
    }
   ],
   "source": [
    "print(accuracy_score(y_test,dt.predict(x_test))*100)\n",
    "print(precision_score(y_test,dt.predict(x_test))*100)\n",
    "print(recall_score(y_test,dt.predict(x_test))*100)\n",
    "print(f1_score(y_test,dt.predict(x_test))*100)"
   ]
  },
  {
   "cell_type": "code",
   "execution_count": 35,
   "id": "725a15fc-3aa2-4227-99d4-509220a55da5",
   "metadata": {},
   "outputs": [
    {
     "data": {
      "text/plain": [
       "<Axes: >"
      ]
     },
     "execution_count": 35,
     "metadata": {},
     "output_type": "execute_result"
    },
    {
     "data": {
      "image/png": "[encoded data removed]",
      "text/plain": [
       "<Figure size 640x480 with 2 Axes>"
      ]
     },
     "metadata": {},
     "output_type": "display_data"
    }
   ],
   "source": [
    "cf=confusion_matrix(y_test,dt.predict(x_test))\n",
    "sns.heatmap(cf,annot=True)"
   ]
  },
  {
   "cell_type": "markdown",
   "id": "b15d98c3",
   "metadata": {},
   "source": [
    "# Random Forest Classifier"
   ]
  },
  {
   "cell_type": "code",
   "execution_count": 36,
   "id": "cadea90d-4da7-4cae-bd0b-466697f8f327",
   "metadata": {},
   "outputs": [
    {
     "data": {
      "text/plain": [
       "(97.26027397260275, 97.59450171821305)"
      ]
     },
     "execution_count": 36,
     "metadata": {},
     "output_type": "execute_result"
    }
   ],
   "source": [
    "rf=RandomForestClassifier(criterion=\"entropy\",min_samples_split=3,min_samples_leaf=2)\n",
    "rf.fit(x_train,y_train)\n",
    "rf.score(x_test,y_test)*100,rf.score(x_train,y_train)*100"
   ]
  },
  {
   "cell_type": "code",
   "execution_count": 37,
   "id": "50ab0fbc",
   "metadata": {},
   "outputs": [
    {
     "name": "stdout",
     "output_type": "stream",
     "text": [
      "97.26027397260275\n",
      "100.0\n",
      "88.88888888888889\n",
      "94.11764705882352\n"
     ]
    }
   ],
   "source": [
    "print(accuracy_score(y_test,rf.predict(x_test))*100)\n",
    "print(precision_score(y_test,rf.predict(x_test))*100)\n",
    "print(recall_score(y_test,rf.predict(x_test))*100)\n",
    "print(f1_score(y_test,rf.predict(x_test))*100)"
   ]
  },
  {
   "cell_type": "code",
   "execution_count": 118,
   "id": "38ae49ab-b3b9-49ec-8a81-7abe77747295",
   "metadata": {},
   "outputs": [
    {
     "data": {
      "text/plain": [
       "<Axes: >"
      ]
     },
     "execution_count": 118,
     "metadata": {},
     "output_type": "execute_result"
    },
    {
     "data": {
      "image/png": "[encoded data removed]",
      "text/plain": [
       "<Figure size 640x480 with 2 Axes>"
      ]
     },
     "metadata": {},
     "output_type": "display_data"
    }
   ],
   "source": [
    "cf=confusion_matrix(y_test,rf.predict(x_test))\n",
    "sns.heatmap(cf,annot=True)"
   ]
  },
  {
   "cell_type": "markdown",
   "id": "0f840042",
   "metadata": {},
   "source": [
    "# Gradient Boosting Classifier"
   ]
  },
  {
   "cell_type": "code",
   "execution_count": 167,
   "id": "f2536dbb",
   "metadata": {},
   "outputs": [],
   "source": [
    "from sklearn.ensemble import GradientBoostingClassifier"
   ]
  },
  {
   "cell_type": "code",
   "execution_count": 401,
   "id": "549bc4b0-5c2b-4d35-b1b9-42fc13ccc14a",
   "metadata": {},
   "outputs": [
    {
     "data": {
      "text/plain": [
       "(98.63013698630137, 98.28178694158075)"
      ]
     },
     "execution_count": 401,
     "metadata": {},
     "output_type": "execute_result"
    }
   ],
   "source": [
    "gd=GradientBoostingClassifier(subsample=0.29,criterion=\"squared_error\",min_samples_split=5,min_samples_leaf=5)\n",
    "gd.fit(x_train,y_train)\n",
    "gd.score(x_test,y_test)*100,gd.score(x_train,y_train)*100"
   ]
  },
  {
   "cell_type": "code",
   "execution_count": 403,
   "id": "51db3841",
   "metadata": {},
   "outputs": [
    {
     "name": "stdout",
     "output_type": "stream",
     "text": [
      "98.63013698630137\n",
      "100.0\n",
      "94.44444444444444\n",
      "97.14285714285714\n"
     ]
    }
   ],
   "source": [
    "print(accuracy_score(y_test,gd.predict(x_test))*100)\n",
    "print(precision_score(y_test,gd.predict(x_test))*100)\n",
    "print(recall_score(y_test,gd.predict(x_test))*100)\n",
    "print(f1_score(y_test,gd.predict(x_test))*100)"
   ]
  },
  {
   "cell_type": "code",
   "execution_count": 402,
   "id": "2dab4160",
   "metadata": {},
   "outputs": [
    {
     "data": {
      "text/plain": [
       "<Axes: >"
      ]
     },
     "execution_count": 402,
     "metadata": {},
     "output_type": "execute_result"
    },
    {
     "data": {
      "image/png": "[encoded data removed]",
      "text/plain": [
       "<Figure size 640x480 with 2 Axes>"
      ]
     },
     "metadata": {},
     "output_type": "display_data"
    }
   ],
   "source": [
    "cf=confusion_matrix(y_test,gd.predict(x_test))\n",
    "sns.heatmap(cf,annot=True)"
   ]
  },
  {
   "cell_type": "code",
   "execution_count": null,
   "id": "e8e608aa",
   "metadata": {},
   "outputs": [],
   "source": []
  }
 ],
 "metadata": {
  "kernelspec": {
   "display_name": "Python 3 (ipykernel)",
   "language": "python",
   "name": "python3"
  },
  "language_info": {
   "codemirror_mode": {
    "name": "ipython",
    "version": 3
   },
   "file_extension": ".py",
   "mimetype": "text/x-python",
   "name": "python",
   "nbconvert_exporter": "python",
   "pygments_lexer": "ipython3",
   "version": "3.11.5"
  }
 },
 "nbformat": 4,
 "nbformat_minor": 5
}
